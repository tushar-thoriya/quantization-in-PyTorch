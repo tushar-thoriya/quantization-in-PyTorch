{
 "cells": [
  {
   "cell_type": "code",
   "execution_count": 5,
   "metadata": {},
   "outputs": [
    {
     "name": "stdout",
     "output_type": "stream",
     "text": [
      "[128.03 -46.88 -13.11   0.   101.37 -16.99 127.03  41.95 -45.88  75.77\n",
      "  32.16  17.29  66.55 -43.09  49.38 -36.    14.69  44.08 101.44  90.32]\n"
     ]
    }
   ],
   "source": [
    "import numpy as np\n",
    "\n",
    "# suppress scientific notation\n",
    "np.set_printoptions(suppress=True)\n",
    "\n",
    "params = np.random.uniform(low=-50, high=150, size=20)\n",
    "\n",
    "params[0] = params.max() + 1\n",
    "params[1] = params.min() - 1\n",
    "params[3] = 0\n",
    "\n",
    "# round each number to the second decimal place\n",
    "params = np.round(params, 2)\n",
    "\n",
    "print(params)"
   ]
  },
  {
   "cell_type": "markdown",
   "metadata": {},
   "source": [
    "# Define the quantization methods and quantize\n"
   ]
  },
  {
   "cell_type": "code",
   "execution_count": 6,
   "metadata": {},
   "outputs": [
    {
     "name": "stdout",
     "output_type": "stream",
     "text": [
      "Original:\n",
      "[128.03 -46.88 -13.11   0.   101.37 -16.99 127.03  41.95 -45.88  75.77\n",
      "  32.16  17.29  66.55 -43.09  49.38 -36.    14.69  44.08 101.44  90.32]\n",
      "\n",
      "Asymmetric scale: 0.685921568627451, zero: 68.0\n",
      "[255   0  49  68 216  43 253 129   1 178 115  93 165   5 140  16  89 132\n",
      " 216 200]\n",
      "\n",
      "Symmetric scale: 1.0081102362204724\n",
      "[127 -47 -13   0 101 -17 126  42 -46  75  32  17  66 -43  49 -36  15  44\n",
      " 101  90]\n"
     ]
    }
   ],
   "source": [
    "def clamp(params_q: np.array, lower_bound: int, upper_bound: int) -> np.array:\n",
    "    params_q[params_q < lower_bound] = lower_bound\n",
    "    params_q[params_q > upper_bound] = upper_bound\n",
    "    return params_q\n",
    "\n",
    "def asymmetric_quantization(params: np.array, bits: int) -> tuple[np.array, float, int]:\n",
    "    alpha = np.max(params)\n",
    "    beta = np.min(params)\n",
    "    scale = (alpha - beta) / (2**bits - 1)\n",
    "    zeros = -1*np.round(beta/scale)\n",
    "    lower_bound = 0\n",
    "    upper_bound = 2**bits - 1\n",
    "    \n",
    "    # quantize the parameters\n",
    "    quantized = clamp(np.round((params / scale) + zeros), lower_bound, upper_bound).astype(np.int32)\n",
    "    return quantized, scale, zeros\n",
    "\n",
    "def asymmetric_dequantize(params_q: np.array, scale: float, zero: int) -> np.array:\n",
    "    return scale*(params_q - zero)\n",
    "\n",
    "def symmetric_quantization(params: np.array, bits: int) -> tuple[np.array, float]:\n",
    "    alpha = np.max(np.abs(params))\n",
    "    scale = abs(alpha) / (2**(bits-1) - 1)    \n",
    "    lower_bound = -(2**(bits-1) - 1)\n",
    "    upper_bound = 2**(bits-1) - 1 \n",
    "    \n",
    "    # quantize the parameters\n",
    "    quantized = clamp(np.round(params/scale), lower_bound, upper_bound).astype(np.int32)\n",
    "    return quantized, scale\n",
    "\n",
    "def symmetric_dequantize(params_q: np.array, scale: float) -> np.array:\n",
    "    return params_q * scale\n",
    "\n",
    "def quantization_error(params: np.array, parmas_q: np.array):\n",
    "    # calculate the MSE\n",
    "    return np.mean((params - parmas_q)**2)\n",
    "\n",
    "\n",
    "(asymmetric_q, asymmetric_scale, asymmetric_zeros) = asymmetric_quantization(params, 8)\n",
    "(symmetric_q, symmetric_scale) = symmetric_quantization(params, 8)\n",
    "\n",
    "\n",
    "print(f'Original:')\n",
    "print(np.round(params, 2))\n",
    "print('')\n",
    "print(f'Asymmetric scale: {asymmetric_scale}, zero: {asymmetric_zeros}')\n",
    "print(asymmetric_q)\n",
    "print('')\n",
    "print(f'Symmetric scale: {symmetric_scale}')\n",
    "print(symmetric_q)"
   ]
  },
  {
   "cell_type": "code",
   "execution_count": 7,
   "metadata": {},
   "outputs": [
    {
     "name": "stdout",
     "output_type": "stream",
     "text": [
      "Original:\n",
      "[128.03 -46.88 -13.11   0.   101.37 -16.99 127.03  41.95 -45.88  75.77\n",
      "  32.16  17.29  66.55 -43.09  49.38 -36.    14.69  44.08 101.44  90.32]\n",
      "\n",
      "Dequantize Asymmetric :\n",
      "[128.26733333 -46.64266667 -13.0325098    0.         101.51639216\n",
      " -17.14803922 126.8954902   41.84121569 -45.9567451   75.45137255\n",
      "  32.23831373  17.14803922  66.53439216 -43.21305882  49.38635294\n",
      " -35.66792157  14.40435294  43.89898039 101.51639216  90.54164706]\n",
      "\n",
      "Deqantize Symmetric:\n",
      "[128.03       -47.3811811  -13.10543307   0.         101.81913386\n",
      " -17.13787402 127.02188976  42.34062992 -46.37307087  75.60826772\n",
      "  32.25952756  17.13787402  66.53527559 -43.34874016  49.39740157\n",
      " -36.2919685   15.12165354  44.35685039 101.81913386  90.72992126]\n"
     ]
    }
   ],
   "source": [
    "## Dequantize the parametes back to 32 bits\n",
    "params_deq_asymmetric = asymmetric_dequantize(asymmetric_q, asymmetric_scale, asymmetric_zeros)\n",
    "params_deq_symmetric = symmetric_dequantize(symmetric_q, symmetric_scale)\n",
    "\n",
    "\n",
    "\n",
    "print(f'Original:')\n",
    "print(np.round(params, 2))\n",
    "print('')\n",
    "print(f'Dequantize Asymmetric :')\n",
    "print(params_deq_asymmetric)\n",
    "print('')\n",
    "print(f'Deqantize Symmetric:')\n",
    "print(params_deq_symmetric)"
   ]
  },
  {
   "cell_type": "code",
   "execution_count": 8,
   "metadata": {},
   "outputs": [
    {
     "name": "stdout",
     "output_type": "stream",
     "text": [
      "  Asymmetric error: 0.03\n",
      "   Symmetric error: 0.08\n"
     ]
    }
   ],
   "source": [
    "print(f'{\"Asymmetric error: \":>20}{np.round(quantization_error(params, params_deq_asymmetric), 2)}')\n",
    "print(f'{\"Symmetric error: \":>20}{np.round(quantization_error(params, params_deq_symmetric), 2)}')"
   ]
  },
  {
   "cell_type": "code",
   "execution_count": null,
   "metadata": {},
   "outputs": [],
   "source": []
  }
 ],
 "metadata": {
  "kernelspec": {
   "display_name": "Python 3",
   "language": "python",
   "name": "python3"
  },
  "language_info": {
   "codemirror_mode": {
    "name": "ipython",
    "version": 3
   },
   "file_extension": ".py",
   "mimetype": "text/x-python",
   "name": "python",
   "nbconvert_exporter": "python",
   "pygments_lexer": "ipython3",
   "version": "3.12.0"
  }
 },
 "nbformat": 4,
 "nbformat_minor": 2
}
